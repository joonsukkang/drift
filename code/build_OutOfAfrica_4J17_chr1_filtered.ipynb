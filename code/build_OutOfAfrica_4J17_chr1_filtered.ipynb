{
 "cells": [
  {
   "cell_type": "code",
   "execution_count": 1,
   "id": "73e1aa1d-9d9d-4cd6-8db0-11b5d1892eeb",
   "metadata": {},
   "outputs": [
    {
     "name": "stderr",
     "output_type": "stream",
     "text": [
      "/Users/jkang/miniconda3/envs/drift-sim/lib/python3.12/site-packages/stdpopsim/catalog/HomSap/demographic_models.py:158: FutureWarning: Calling int on a single element Series is deprecated and will raise a TypeError in the future. Use int(ser.iloc[0]) instead\n",
      "  time=int(extended_GF.time.head(1) - 1), rate=0\n",
      "/Users/jkang/miniconda3/envs/drift-sim/lib/python3.12/site-packages/stdpopsim/catalog/HomSap/demographic_models.py:161: FutureWarning: Calling int on a single element Series is deprecated and will raise a TypeError in the future. Use int(ser.iloc[0]) instead\n",
      "  time=int(extended_GF.time.tail(1) + 1), rate=0\n"
     ]
    }
   ],
   "source": [
    "import stdpopsim\n",
    "import numpy as np\n",
    "import pandas as pd\n",
    "import os\n",
    "import gzip\n",
    "import shutil"
   ]
  },
  {
   "cell_type": "code",
   "execution_count": 2,
   "id": "0cee6a52-2d96-46c6-94d0-bd1a0fa0387f",
   "metadata": {},
   "outputs": [
    {
     "name": "stdout",
     "output_type": "stream",
     "text": [
      "['YRI', 'CEU', 'CHB', 'JPT']\n"
     ]
    }
   ],
   "source": [
    "species = stdpopsim.get_species(\"HomSap\")\n",
    "demographic_model = species.get_demographic_model(\"OutOfAfrica_4J17\")\n",
    "print([pop.name for pop in demographic_model.populations])\n",
    "\n",
    "samples = {\"YRI\": 100, \"CEU\": 100, \"CHB\": 100, \"JPT\": 100} # number of individuals (=number of chromosomes/2)\n",
    "engine = stdpopsim.get_engine(\"msprime\")"
   ]
  },
  {
   "cell_type": "code",
   "execution_count": 5,
   "id": "33a33b80",
   "metadata": {},
   "outputs": [
    {
     "name": "stdout",
     "output_type": "stream",
     "text": [
      "mean recombination rate: 1.15e-08\n",
      "mean mutation rate: 1.44e-08\n"
     ]
    }
   ],
   "source": [
    "chrno = 1\n",
    "contig = species.get_contig(f\"chr{chrno}\", mutation_rate=demographic_model.mutation_rate)\n",
    "print(\"mean recombination rate:\", f\"{contig.recombination_map.mean_rate:.3}\")\n",
    "print(\"mean mutation rate:\", contig.mutation_rate)\n"
   ]
  },
  {
   "cell_type": "code",
   "execution_count": 6,
   "id": "41a3d04d",
   "metadata": {},
   "outputs": [
    {
     "name": "stdout",
     "output_type": "stream",
     "text": [
      "2792638\n"
     ]
    }
   ],
   "source": [
    "ts = engine.simulate(demographic_model, contig, samples, seed=0) # took 18 minutes\n",
    "print(ts.num_sites)"
   ]
  },
  {
   "cell_type": "code",
   "execution_count": 7,
   "id": "63ab7abe-8218-4891-ba2e-9b9902a9d912",
   "metadata": {},
   "outputs": [
    {
     "name": "stdout",
     "output_type": "stream",
     "text": [
      "800\n",
      "The tree sequence has 200 chromosome samples from population 0, which is YRI.\n",
      "The tree sequence has 200 chromosome samples from population 1, which is CEU.\n",
      "The tree sequence has 200 chromosome samples from population 2, which is CHB.\n",
      "The tree sequence has 200 chromosome samples from population 3, which is JPT.\n"
     ]
    }
   ],
   "source": [
    "print(ts.num_samples)\n",
    "for k, pop in enumerate(ts.populations()):\n",
    "    print(\n",
    "        f\"The tree sequence has {len(ts.samples(k))} chromosome samples from \"\n",
    "        f\"population {k}, which is {pop.metadata['id']}.\"\n",
    ")"
   ]
  },
  {
   "cell_type": "code",
   "execution_count": 8,
   "id": "5ac65f78-9d4e-4449-8f1a-048055e42a58",
   "metadata": {},
   "outputs": [],
   "source": [
    "with open(\"../data/sim/OutOfAfrica_4J17_\" + f\"chr{chrno}\" + \".vcf\", \"w\") as vcf_file:\n",
    "    ts.write_vcf(vcf_file)"
   ]
  },
  {
   "cell_type": "code",
   "execution_count": 9,
   "id": "49badb9c",
   "metadata": {},
   "outputs": [
    {
     "name": "stdout",
     "output_type": "stream",
     "text": [
      "PLINK v2.00a4 64-bit (9 Jan 2023)              www.cog-genomics.org/plink/2.0/\n",
      "(C) 2005-2023 Shaun Purcell, Christopher Chang   GNU General Public License v3\n",
      "Logging to ../data/sim/OutOfAfrica_4J17_chr1_filtered.log.\n",
      "Options in effect:\n",
      "  --bp-space 2000\n",
      "  --maf 0.01\n",
      "  --make-bed\n",
      "  --max-alleles 2\n",
      "  --min-alleles 2\n",
      "  --out ../data/sim/OutOfAfrica_4J17_chr1_filtered\n",
      "  --vcf ../data/sim/OutOfAfrica_4J17_chr1.vcf\n",
      "\n",
      "Start time: Sun Apr 14 21:26:45 2024\n",
      "16384 MiB RAM detected; reserving 8192 MiB for main workspace.\n",
      "Using up to 8 compute threads.\n",
      "--vcf: 2792638 variants scanned.\n",
      "--vcf: ../data/sim/OutOfAfrica_4J17_chr1_filtered-temporary.pgen +\n",
      "../data/sim/OutOfAfrica_4J17_chr1_filtered-temporary.pvar.zst +\n",
      "../data/sim/OutOfAfrica_4J17_chr1_filtered-temporary.psam written.\n",
      "400 samples (0 females, 0 males, 400 ambiguous; 400 founders) loaded from\n",
      "../data/sim/OutOfAfrica_4J17_chr1_filtered-temporary.psam.\n",
      "2781968 out of 2792638 variants loaded from\n",
      "../data/sim/OutOfAfrica_4J17_chr1_filtered-temporary.pvar.zst.\n",
      "Note: No phenotype data present.\n",
      "Calculating allele frequencies... 1114161821232528303235373942444649515356586163656870727577798284868991939698done.\n",
      "1871529 variants removed due to allele frequency threshold(s)\n",
      "(--maf/--max-maf/--mac/--max-mac).\n",
      "--bp-space: 801476 variants removed (108963 remaining).\n",
      "108963 variants remaining after main filters.\n",
      "Writing ../data/sim/OutOfAfrica_4J17_chr1_filtered.fam ... done.\n",
      "Writing ../data/sim/OutOfAfrica_4J17_chr1_filtered.bim ... done.\n",
      "Writing ../data/sim/OutOfAfrica_4J17_chr1_filtered.bed ... 1114161821232528303235373942444649515356586163656870727577798284868991939698done.\n",
      "End time: Sun Apr 14 21:26:54 2024\n"
     ]
    },
    {
     "data": {
      "text/plain": [
       "0"
      ]
     },
     "execution_count": 9,
     "metadata": {},
     "output_type": "execute_result"
    }
   ],
   "source": [
    "# following 1kgp paper data handling, we filtered sites to be biallelic, non-singleton, and at least 2kb apart; and MAF >= 0.01\n",
    "# export as bed\n",
    "os.system(\"plink2 --vcf ../data/sim/OutOfAfrica_4J17_\" + f\"chr{chrno}\" +\".vcf \\\n",
    "          --bp-space 2000 --min-alleles 2 --max-alleles 2 --maf 0.01 --make-bed \\\n",
    "          --out ../data/sim/OutOfAfrica_4J17_\" + f\"chr{chrno}\"+\"_filtered\")"
   ]
  },
  {
   "cell_type": "code",
   "execution_count": 10,
   "id": "b89e090e",
   "metadata": {},
   "outputs": [
    {
     "name": "stdout",
     "output_type": "stream",
     "text": [
      "****                   ADMIXTURE Version 1.3.0                  ****\n",
      "****                    Copyright 2008-2015                     ****\n",
      "****           David Alexander, Suyash Shringarpure,            ****\n",
      "****                John  Novembre, Ken Lange                   ****\n",
      "****                                                            ****\n",
      "****                 Please cite our paper!                     ****\n",
      "****   Information at www.genetics.ucla.edu/software/admixture  ****\n",
      "\n",
      "Parallel execution requested.  Will use 6 threads.\n",
      "Random seed: 0\n",
      "Point estimation method: Block relaxation algorithm\n",
      "Convergence acceleration algorithm: QuasiNewton, 3 secant conditions\n",
      "Point estimation will terminate when objective function delta < 0.0001\n",
      "Estimation of standard errors disabled; will compute point estimates only.\n",
      "Size of G: 400x108963\n",
      "Performing five EM steps to prime main algorithm\n",
      "1 (EM) \tElapsed: 25.878\tLoglikelihood: -2.73584e+07\t(delta): 4.01322e+07\n",
      "2 (EM) \tElapsed: 24.658\tLoglikelihood: -2.61079e+07\t(delta): 1.25048e+06\n",
      "3 (EM) \tElapsed: 26.46\tLoglikelihood: -2.58662e+07\t(delta): 241718\n",
      "4 (EM) \tElapsed: 26.299\tLoglikelihood: -2.57316e+07\t(delta): 134654\n",
      "5 (EM) \tElapsed: 28.861\tLoglikelihood: -2.56377e+07\t(delta): 93842\n",
      "Initial loglikelihood: -2.56377e+07\n",
      "Starting main algorithm\n",
      "1 (QN/Block) \tElapsed: 34.473\tLoglikelihood: -2.3087e+07\t(delta): 2.5507e+06\n",
      "2 (QN/Block) \tElapsed: 30.049\tLoglikelihood: -2.23274e+07\t(delta): 759613\n",
      "3 (QN/Block) \tElapsed: 40.325\tLoglikelihood: -2.21249e+07\t(delta): 202526\n",
      "4 (QN/Block) \tElapsed: 45.525\tLoglikelihood: -2.20512e+07\t(delta): 73684.7\n",
      "5 (QN/Block) \tElapsed: 62.066\tLoglikelihood: -2.20176e+07\t(delta): 33557.5\n",
      "6 (QN/Block) \tElapsed: 63.419\tLoglikelihood: -2.20055e+07\t(delta): 12101.8\n",
      "7 (QN/Block) \tElapsed: 39.738\tLoglikelihood: -2.20012e+07\t(delta): 4313.86\n",
      "8 (QN/Block) \tElapsed: 46.72\tLoglikelihood: -2.19974e+07\t(delta): 3873.1\n",
      "9 (QN/Block) \tElapsed: 42.454\tLoglikelihood: -2.19907e+07\t(delta): 6699.63\n",
      "10 (QN/Block) \tElapsed: 39.003\tLoglikelihood: -2.19812e+07\t(delta): 9463.4\n",
      "11 (QN/Block) \tElapsed: 40.221\tLoglikelihood: -2.19767e+07\t(delta): 4443.2\n",
      "12 (QN/Block) \tElapsed: 42.64\tLoglikelihood: -2.19746e+07\t(delta): 2195.04\n",
      "13 (QN/Block) \tElapsed: 43.515\tLoglikelihood: -2.1973e+07\t(delta): 1516.15\n",
      "14 (QN/Block) \tElapsed: 36.484\tLoglikelihood: -2.19721e+07\t(delta): 916.218\n",
      "15 (QN/Block) \tElapsed: 38.25\tLoglikelihood: -2.19715e+07\t(delta): 632.149\n",
      "16 (QN/Block) \tElapsed: 52.424\tLoglikelihood: -2.19711e+07\t(delta): 373.223\n",
      "17 (QN/Block) \tElapsed: 49.141\tLoglikelihood: -2.19705e+07\t(delta): 590.187\n",
      "18 (QN/Block) \tElapsed: 52.537\tLoglikelihood: -2.19698e+07\t(delta): 678.923\n",
      "19 (QN/Block) \tElapsed: 52.831\tLoglikelihood: -2.19696e+07\t(delta): 270.868\n",
      "20 (QN/Block) \tElapsed: 59.99\tLoglikelihood: -2.19693e+07\t(delta): 244.013\n",
      "21 (QN/Block) \tElapsed: 57.694\tLoglikelihood: -2.19691e+07\t(delta): 213.952\n",
      "22 (QN/Block) \tElapsed: 65.396\tLoglikelihood: -2.19689e+07\t(delta): 197.219\n",
      "23 (QN/Block) \tElapsed: 59.964\tLoglikelihood: -2.19689e+07\t(delta): 46.3607\n",
      "24 (QN/Block) \tElapsed: 44.248\tLoglikelihood: -2.19689e+07\t(delta): 7.01345\n",
      "25 (QN/Block) \tElapsed: 57.348\tLoglikelihood: -2.19689e+07\t(delta): 1.78697\n",
      "26 (QN/Block) \tElapsed: 43.502\tLoglikelihood: -2.19689e+07\t(delta): 0.689663\n",
      "27 (QN/Block) \tElapsed: 41.592\tLoglikelihood: -2.19689e+07\t(delta): 0.011839\n",
      "28 (QN/Block) \tElapsed: 42.936\tLoglikelihood: -2.19689e+07\t(delta): 0.000885814\n",
      "29 (QN/Block) \tElapsed: 48.005\tLoglikelihood: -2.19689e+07\t(delta): 5.861e-05\n",
      "Summary: \n",
      "Converged in 29 iterations (1724.34 sec)\n",
      "Loglikelihood: -21968863.878495\n",
      "Fst divergences between estimated populations: \n",
      "\tPop0\tPop1\tPop2\t\n",
      "Pop0\t\n",
      "Pop1\t0.166\t\n",
      "Pop2\t0.163\t0.012\t\n",
      "Pop3\t0.145\t0.113\t0.108\t\n",
      "Writing output files.\n"
     ]
    },
    {
     "data": {
      "text/plain": [
       "0"
      ]
     },
     "execution_count": 10,
     "metadata": {},
     "output_type": "execute_result"
    }
   ],
   "source": [
    "# run admixture (set seed to 0)\n",
    "os.system(\"admixture -s 0 ../data/sim/OutOfAfrica_4J17_\" + f\"chr{chrno}\" + \"_filtered.bed 4 -j6\")"
   ]
  }
 ],
 "metadata": {
  "kernelspec": {
   "display_name": "Python 3 (ipykernel)",
   "language": "python",
   "name": "python3"
  },
  "language_info": {
   "codemirror_mode": {
    "name": "ipython",
    "version": 3
   },
   "file_extension": ".py",
   "mimetype": "text/x-python",
   "name": "python",
   "nbconvert_exporter": "python",
   "pygments_lexer": "ipython3",
   "version": "3.12.1"
  }
 },
 "nbformat": 4,
 "nbformat_minor": 5
}
